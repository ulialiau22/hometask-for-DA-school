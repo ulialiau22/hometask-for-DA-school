{
  "cells": [
    {
      "cell_type": "markdown",
      "metadata": {
        "id": "view-in-github",
        "colab_type": "text"
      },
      "source": [
        "<a href=\"https://colab.research.google.com/github/ulialiau22/hometask-for-DA-school/blob/main/HW_3_Julia_Dmitrieva.ipynb\" target=\"_parent\"><img src=\"https://colab.research.google.com/assets/colab-badge.svg\" alt=\"Open In Colab\"/></a>"
      ]
    },
    {
      "cell_type": "markdown",
      "source": [
        "[![Open In Colab](https://colab.research.google.com/assets/colab-badge.svg)](https://colab.research.google.com/github/da-python/python-for-data-analytics/blob/main/Lesson3/hometask/hometask_SyntheticRubber.ipynb)"
      ],
      "metadata": {
        "collapsed": false,
        "pycharm": {
          "name": "#%% md\n"
        },
        "id": "pZL98VnKAz-O"
      }
    },
    {
      "cell_type": "code",
      "execution_count": 1,
      "outputs": [
        {
          "output_type": "stream",
          "name": "stdout",
          "text": [
            "Looking in indexes: https://pypi.org/simple, https://us-python.pkg.dev/colab-wheels/public/simple/\n",
            "Collecting yfinance\n",
            "  Downloading yfinance-0.1.74-py2.py3-none-any.whl (27 kB)\n",
            "Requirement already satisfied: requests in /usr/local/lib/python3.7/dist-packages (2.23.0)\n",
            "Requirement already satisfied: numpy>=1.15 in /usr/local/lib/python3.7/dist-packages (from yfinance) (1.21.6)\n",
            "Requirement already satisfied: pandas>=0.24.0 in /usr/local/lib/python3.7/dist-packages (from yfinance) (1.3.5)\n",
            "Requirement already satisfied: multitasking>=0.0.7 in /usr/local/lib/python3.7/dist-packages (from yfinance) (0.0.11)\n",
            "Requirement already satisfied: lxml>=4.5.1 in /usr/local/lib/python3.7/dist-packages (from yfinance) (4.9.1)\n",
            "Collecting requests\n",
            "  Downloading requests-2.28.1-py3-none-any.whl (62 kB)\n",
            "\u001b[K     |████████████████████████████████| 62 kB 891 kB/s \n",
            "\u001b[?25hRequirement already satisfied: certifi>=2017.4.17 in /usr/local/lib/python3.7/dist-packages (from requests) (2022.6.15)\n",
            "Requirement already satisfied: idna<4,>=2.5 in /usr/local/lib/python3.7/dist-packages (from requests) (2.10)\n",
            "Requirement already satisfied: urllib3<1.27,>=1.21.1 in /usr/local/lib/python3.7/dist-packages (from requests) (1.24.3)\n",
            "Requirement already satisfied: charset-normalizer<3,>=2 in /usr/local/lib/python3.7/dist-packages (from requests) (2.1.0)\n",
            "Requirement already satisfied: pytz>=2017.3 in /usr/local/lib/python3.7/dist-packages (from pandas>=0.24.0->yfinance) (2022.1)\n",
            "Requirement already satisfied: python-dateutil>=2.7.3 in /usr/local/lib/python3.7/dist-packages (from pandas>=0.24.0->yfinance) (2.8.2)\n",
            "Requirement already satisfied: six>=1.5 in /usr/local/lib/python3.7/dist-packages (from python-dateutil>=2.7.3->pandas>=0.24.0->yfinance) (1.15.0)\n",
            "Installing collected packages: requests, yfinance\n",
            "  Attempting uninstall: requests\n",
            "    Found existing installation: requests 2.23.0\n",
            "    Uninstalling requests-2.23.0:\n",
            "      Successfully uninstalled requests-2.23.0\n",
            "Successfully installed requests-2.28.1 yfinance-0.1.74\n"
          ]
        }
      ],
      "source": [
        "##### При работе в Colab\n",
        "!pip install yfinance requests"
      ],
      "metadata": {
        "pycharm": {
          "name": "#%%\n"
        },
        "id": "rzigWRzBAz-S",
        "colab": {
          "base_uri": "https://localhost:8080/"
        },
        "outputId": "f41704a3-f05a-45c8-d45d-ce37200fe9e1"
      }
    },
    {
      "cell_type": "code",
      "execution_count": 2,
      "outputs": [],
      "source": [
        "import requests\n",
        "import yfinance as yf\n",
        "import pandas as pd\n",
        "import matplotlib.pyplot as plt\n",
        "import seaborn; seaborn.set()\n",
        "import numpy as np"
      ],
      "metadata": {
        "pycharm": {
          "name": "#%%\n"
        },
        "id": "led6w8GkAz-T"
      }
    },
    {
      "cell_type": "markdown",
      "metadata": {
        "pycharm": {
          "name": "#%% md\n"
        },
        "id": "t6p-XYVXAz-U"
      },
      "source": [
        "# Задание 1.\n",
        "\n",
        "* Вы - менеджер по продажам в нефтехимической компании.\n",
        "* Вы ведете несколько ключевых клиентов, которые закупают продукты вашей компании.\n",
        "* Ваши клиенты предпочитают формульный подход к ценообразованию и вам нужно предложить клиентам формулу цены на синтетический каучук, который может быть альтернативой натуральному каучуку с грейдом SMR 20.\n",
        "* В зависимости от объемов, которые покупают клиенты, им может быть предложена скидка.\n"
      ]
    },
    {
      "cell_type": "markdown",
      "source": [
        "### Что нужно сделать?\n",
        "\n",
        "1. Проанализировать имеющиеся данные.\n",
        "2. Определить базовую формулу цены на условиях FCA (цена на заводе). То есть как бы выглядела цена на исторических данных.\n",
        "3. Отобразить на графике.\n",
        "4. Сделать расчет возможной цены по формуле для каждого из клиентов на условиях DDP (цена с доставкой). Записать все в один эксель файл, на разных листах. Каждый лист - название клиента.\n",
        "5. Предложить формулу цены каждому из клиентов на условиях DDP (цена с доставкой).\n",
        "- Создать директорию «для клиентов» и в ней сложить файлы с расчетами.\n",
        "- Каждый клиент - отдельный файл (любой из docx, xlsx, pptx, pdf)  с именем клиента…"
      ],
      "metadata": {
        "collapsed": false,
        "pycharm": {
          "name": "#%% md\n"
        },
        "id": "Xo1pJHbmAz-U"
      }
    },
    {
      "cell_type": "code",
      "execution_count": 3,
      "outputs": [],
      "source": [
        "# Из данных есть:\n",
        "# Затраты на производство\n",
        "PRODUCTION_COST = 400 # (EUR)"
      ],
      "metadata": {
        "pycharm": {
          "name": "#%%\n"
        },
        "id": "Z4Tzskm7Az-V"
      }
    },
    {
      "cell_type": "code",
      "execution_count": 4,
      "outputs": [],
      "source": [
        "# Котировки натурального каучука доступны на сайте,  https://www.lgm.gov.my\n",
        "# также у них есть API, пример запроса ниже\n",
        "#\n",
        "alldfs = []\n",
        "for y in ['2021', '2022']:\n",
        "  for m in ['01', '02', '03', '04', '05', '06', '07', '08', '09', '10', '11', '12']:\n",
        "    url = f\"https://www.lgm.gov.my/webv2api/api/rubberprice/month={m}&year={y}\"\n",
        "    res = requests.get(url)\n",
        "    rj = res.json()\n",
        "    df = pd.json_normalize(rj)\n",
        "    alldfs.append(df)"
      ],
      "metadata": {
        "pycharm": {
          "name": "#%%\n"
        },
        "id": "tjrP-KCrAz-W"
      }
    },
    {
      "cell_type": "code",
      "source": [
        "df = pd.concat(alldfs) #соединяем датафреймы\n",
        "df.drop(columns = ['masa', 'rm'], #удаляем столбец rm, т.к. в таблице есть данные о центах, что и требуется для решения задачи\n",
        "        index = df[df['grade'] != 'SMR 20'].index, inplace = True) # удаляем из таблицы все строки отличные от SMR 20  \n",
        "df['date'] = pd.to_datetime(df['date']) \n",
        "df = pd.DataFrame(df.groupby('date')['us'].mean()) #группируем цены в USD по датам\n",
        "rate = yf.Ticker('EURUSD=x').history('2y') \n",
        "rate = rate.loc['2021-01-01':] #делаем срез - берем все значения с 01 января 2021\n",
        "rate['r'] = (rate['Open'] + rate['Close'] + rate['Low'] + rate['High'])/4 \n",
        "rate.drop(columns = rate.columns[:-1], inplace = True)\n",
        "df = pd.merge(df, rate, left_index = True, right_index=True, how='left') #объединяем датафреймы по индексу - дата\n",
        "#Пусть для создания 1 тонны синтетического каучука небходимо 100 кг SMR 20\n",
        "#Тогда формула цены синтетического каучука будет равна = Цена_SMR_20(за тонну) * 0,1 + PRODUCTION_COST \n",
        "df['USD'] = df['us'] / 100 * 1000 #переводим центы за кг в доллары за тонну \n",
        "df['EUR'] = df['USD'] / df['r'] #из долларов в евро\n",
        "df['SynthR_FCA_USD'] = 0.1 * df['USD'] + PRODUCTION_COST * df['r'] #расчитываем среднюю цену на заводе в долларах\n",
        "df['SynthR_FCA_EUR'] = 0.1 * df['EUR'] + PRODUCTION_COST #расчитываем среднюю цену на заводе в евро\n",
        "df.drop(columns = df.columns[:-2], inplace = True)\n",
        "df = df.resample('1M').mean()\n",
        "df['SynthR_FCA_USD_MA'] = df['SynthR_FCA_USD'].rolling(window=3).mean() #расчитываем скользящую среднюю цену на заводе в долларах\n",
        "df['SynthR_FCA_EUR_MA'] = df['SynthR_FCA_EUR'].rolling(window=3).mean() #расчитываем скользящую среднюю цену на заводе в евро\n",
        "df.dropna(inplace=True)\n",
        "df_eur = df[['SynthR_FCA_EUR', 'SynthR_FCA_EUR_MA']] \n",
        "df_usd = df[['SynthR_FCA_USD', 'SynthR_FCA_USD_MA']]"
      ],
      "metadata": {
        "id": "dRb_uVBHOUWM"
      },
      "execution_count": 5,
      "outputs": []
    },
    {
      "cell_type": "code",
      "source": [
        "# Расходы на логистику\n",
        "EU_LOGISTIC_COST_EUR = 30 # в Европу в евро\n",
        "CN_LOGISTIC_COST_USD = 130 # в Китай в долларах\n",
        "# * Справочная информация по клиентам(объемы, локации, комментарии)\n",
        "# location - локация клиента\n",
        "# volumes - закупаемые объемы\n",
        "# formula - предпочитаемая формула расчета цены - скользящая средняя или среднее значение за месяц\n",
        "customers = {\n",
        "    'Monty':{\n",
        "        'location':'EU',\n",
        "        'volumes':200,\n",
        "        'formula':'moving_average'\n",
        "    },\n",
        "\n",
        "    'Triangle':{\n",
        "        'location':'CN',\n",
        "        'volumes': 30,\n",
        "        'formula': 'monthly'\n",
        "    },\n",
        "    'Stone':{\n",
        "        'location':'EU',\n",
        "        'volumes': 150,\n",
        "        'formula': 'moving_average'\n",
        "    },\n",
        "    'Poly':{\n",
        "        'location':'EU',\n",
        "        'volumes': 70,\n",
        "        'formula': 'monthly'\n",
        "    }\n",
        "}\n",
        "# Скидки\n",
        "discounts = {tuple(np.arange(101)): 0.01, # 1% \n",
        "             tuple(np.arange(101,301)): 0.05, # 5%\n",
        "             tuple(np.arange(301, 2000)): 0.1}   #10%"
      ],
      "metadata": {
        "id": "g2f_0olBRVNi"
      },
      "execution_count": 6,
      "outputs": []
    },
    {
      "cell_type": "code",
      "source": [
        "def get_discount(volume): #создаем функцию, определяющую размер скидки, в зависимости от объема продажи\n",
        "  for k in discounts.keys():\n",
        "    if volume in k:\n",
        "      return(discounts[k])\n",
        "\n",
        "writer = pd.ExcelWriter('Client_prices.xlsx') #записываем данные в отдельный Excel файл\n",
        "for customer in customers.keys():\n",
        "  otkuda = customers[customer]['location']\n",
        "  skolko = customers[customer]['volumes']\n",
        "  kak = customers[customer]['formula']\n",
        "\n",
        "\n",
        "  if otkuda == 'EU': \n",
        "    hist_data = df_eur*get_discount(skolko)+EU_LOGISTIC_COST_EUR\n",
        "\n",
        "    if kak == 'monthly':\n",
        "      del hist_data['SynthR_FCA_EUR_MA']\n",
        "    elif kak == 'moving_average':\n",
        "      del hist_data['SynthR_FCA_EUR']\n",
        "    hist_data.columns = ['DDP Synthetic Rubber, EUR/tonn']\n",
        "\n",
        "  elif otkuda == 'CN':\n",
        "    hist_data = df_usd*get_discount(skolko)+CN_LOGISTIC_COST_USD\n",
        "\n",
        "    if kak == 'monthly':\n",
        "      del hist_data['SynthR_FCA_USD_MA']\n",
        "    elif kak == 'moving_average':\n",
        "      del hist_data['SynthR_FCA_USD']\n",
        "    hist_data.columns = ['DDP Synthetic Rubber, USD/tonn']\n",
        "  \n",
        "  hist_data.to_excel(writer, f\"{customer}\")\n",
        "writer.save()"
      ],
      "metadata": {
        "id": "2IuRe9xFRbzK"
      },
      "execution_count": 7,
      "outputs": []
    },
    {
      "cell_type": "markdown",
      "metadata": {
        "pycharm": {
          "name": "#%% md\n"
        },
        "id": "5l5XCNDkAz-X"
      },
      "source": [
        "# Задание 2. Продолжение"
      ]
    },
    {
      "cell_type": "markdown",
      "metadata": {
        "pycharm": {
          "name": "#%% md\n"
        },
        "id": "FFcHDzKfAz-X"
      },
      "source": [
        "Клиенты согласились на ваше предложение.\n",
        "### Что нужно сделать?\n",
        "Вам нужно написать скрипт, с помощью которого можно автоматом рассчитывать цены для всех клиентов одновременно.\n",
        "\n",
        "\n",
        "\n",
        "* В результате должен быть скрипт, который делает расчет цены для клиента (чтобы данные подтягивались туда сами)"
      ]
    },
    {
      "cell_type": "markdown",
      "metadata": {
        "pycharm": {
          "name": "#%% md\n"
        },
        "id": "hyJ0LmQDAz-Z"
      },
      "source": [
        "# Задание 3. Поделись с ближним"
      ]
    },
    {
      "cell_type": "markdown",
      "metadata": {
        "pycharm": {
          "name": "#%% md\n"
        },
        "id": "Rjs0FDATAz-a"
      },
      "source": [
        "Вы решили пойти в отпуск на время вашего отсутствия вас будет заменять коллега. Он будет заниматься рассчетом цен для клиентов. Чтобы ему было проще вам нужно завернуть ваши скрипты в модуль, который будет запускать у себя коллега."
      ]
    },
    {
      "cell_type": "markdown",
      "metadata": {
        "pycharm": {
          "name": "#%% md\n"
        },
        "id": "-FRbNKEOAz-a"
      },
      "source": [
        "### Что нужно сделать?\n",
        "* Создайте модуль, который можно запускать в ноутбуке подкладывая в ту же директорию\n",
        "* Хорошенько задокументируйте ВСЁ\n",
        "* Помните о PEP8"
      ]
    },
    {
      "cell_type": "code",
      "execution_count": 8,
      "metadata": {
        "pycharm": {
          "name": "#%%\n"
        },
        "id": "rcXx7a9QAz-b"
      },
      "outputs": [],
      "source": [
        "def get_personal_prices(clients, out_file_name):\n",
        "\n",
        "  #clients - Список клиентов в формате словаря. Ключ у словаря - имя клиента, \n",
        "  #значение по ключу клиента - словарь, ключи которого:\n",
        "  #location, volumes, formula - откуда (EU,CN), сколько тонн, по какой формуле считать\n",
        "  \n",
        "  #out_file_name - желаемое имя выходного файла (в конце добавить .xlsx)\n",
        "  \n",
        "  import requests\n",
        "  import yfinance as yf\n",
        "  import pandas as pd\n",
        "  import matplotlib.pyplot as plt\n",
        "  import seaborn; seaborn.set()\n",
        "  import numpy as np\n",
        "  # Из данных есть:\n",
        "  # Затраты на производство\n",
        "  PRODUCTION_COST = 400 # (EUR)\n",
        "  # Котировки натурального каучука доступны на сайте,  https://www.lgm.gov.my\n",
        "  # также у них есть API, пример запроса ниже\n",
        "  #\n",
        "  alldfs = []\n",
        "  for y in ['2021', '2022']:\n",
        "    for m in ['01', '02', '03', '04', '05', '06', '07', '08', '09', '10', '11', '12']:\n",
        "      url = f\"https://www.lgm.gov.my/webv2api/api/rubberprice/month={m}&year={y}\"\n",
        "      res = requests.get(url)\n",
        "      rj = res.json()\n",
        "      df = pd.json_normalize(rj)\n",
        "      alldfs.append(df)\n",
        "  df = pd.concat(alldfs) #соединяем датафреймы\n",
        "  df.drop(columns = ['masa', 'rm'], #удаляем столбец rm, т.к. в таблице есть данные о центах, что и требуется для решения задачи\n",
        "          index = df[df['grade'] != 'SMR 20'].index, inplace = True) # удаляем из таблицы все строки отличные от SMR 20  \n",
        "  df['date'] = pd.to_datetime(df['date']) \n",
        "  df = pd.DataFrame(df.groupby('date')['us'].mean()) #группируем цены в USD по датам\n",
        "  rate = yf.Ticker('EURUSD=x').history('2y') \n",
        "  rate = rate.loc['2021-01-01':] #делаем срез - берем все значения с 01 января 2021\n",
        "  rate['r'] = (rate['Open'] + rate['Close'] + rate['Low'] + rate['High'])/4 \n",
        "  rate.drop(columns = rate.columns[:-1], inplace = True)\n",
        "  df = pd.merge(df, rate, left_index = True, right_index=True, how='left') #объединяем датафреймы по индексу - дата\n",
        "  #Пусть для создания 1 тонны синтетического каучука небходимо 100 кг SMR 20\n",
        "  #Тогда формула цены синтетического каучука будет равна = Цена_SMR_20(за тонну) * 0,1 + PRODUCTION_COST \n",
        "  df['USD'] = df['us'] / 100 * 1000 #переводим центы за кг в доллары за тонну \n",
        "  df['EUR'] = df['USD'] / df['r'] #из долларов в евро\n",
        "  df['SynthR_FCA_USD'] = 0.1 * df['USD'] + PRODUCTION_COST * df['r'] #расчитываем среднюю цену на заводе в долларах\n",
        "  df['SynthR_FCA_EUR'] = 0.1 * df['EUR'] + PRODUCTION_COST #расчитываем среднюю цену на заводе в евро\n",
        "  df.drop(columns = df.columns[:-2], inplace = True)\n",
        "  df = df.resample('1M').mean()\n",
        "  df['SynthR_FCA_USD_MA'] = df['SynthR_FCA_USD'].rolling(window=3).mean() #расчитываем скользящую среднюю цену на заводе в долларах\n",
        "  df['SynthR_FCA_EUR_MA'] = df['SynthR_FCA_EUR'].rolling(window=3).mean() #расчитываем скользящую среднюю цену на заводе в евро\n",
        "  df.dropna(inplace=True)\n",
        "  df_eur = df[['SynthR_FCA_EUR', 'SynthR_FCA_EUR_MA']] \n",
        "  df_usd = df[['SynthR_FCA_USD', 'SynthR_FCA_USD_MA']]\n",
        "  # Расходы на логистику\n",
        "  EU_LOGISTIC_COST_EUR = 30 # в Европу в евро\n",
        "  CN_LOGISTIC_COST_USD = 130 # в Китай в долларах\n",
        "  # * Справочная информация по клиентам(объемы, локации, комментарии)\n",
        "  # location - локация клиента\n",
        "  # volumes - закупаемые объемы\n",
        "  # formula - предпочитаемая формула расчета цены - скользящая средняя или среднее значение за месяц\n",
        "  # Скидки\n",
        "  discounts = {tuple(np.arange(101)): 0.01, # 1% \n",
        "              tuple(np.arange(101,301)): 0.05, # 5%\n",
        "              tuple(np.arange(301, 2000)): 0.1}   #10%\n",
        "\n",
        "  def get_discount(volume): #создаем функцию, определяющую размер скидки, в зависимости от объема продажи\n",
        "    for k in discounts.keys():\n",
        "      if volume in k:\n",
        "        return(discounts[k])\n",
        "\n",
        "  writer = pd.ExcelWriter(out_file_name) #записываем данные в отдельный Excel файл\n",
        "  for customer in clients.keys():\n",
        "    otkuda = clients[customer]['location']\n",
        "    skolko = clients[customer]['volumes']\n",
        "    kak = clients[customer]['formula']\n",
        "\n",
        "\n",
        "    if otkuda == 'EU': \n",
        "      hist_data = df_eur*get_discount(skolko)+EU_LOGISTIC_COST_EUR\n",
        "\n",
        "      if kak == 'monthly':\n",
        "        del hist_data['SynthR_FCA_EUR_MA']\n",
        "      elif kak == 'moving_average':\n",
        "        del hist_data['SynthR_FCA_EUR']\n",
        "      hist_data.columns = ['DDP Synthetic Rubber, EUR/tonn']\n",
        "\n",
        "    elif otkuda == 'CN':\n",
        "      hist_data = df_usd*get_discount(skolko)+CN_LOGISTIC_COST_USD\n",
        "\n",
        "      if kak == 'monthly':\n",
        "        del hist_data['SynthR_FCA_USD_MA']\n",
        "      elif kak == 'moving_average':\n",
        "        del hist_data['SynthR_FCA_USD']\n",
        "      hist_data.columns = ['DDP Synthetic Rubber, USD/tonn']\n",
        "    \n",
        "    hist_data.to_excel(writer, f\"{customer}\")\n",
        "  writer.save()\n",
        "\n",
        "customers1 = {\n",
        "      'Popty':{\n",
        "          'location':'EU',\n",
        "          'volumes':200,\n",
        "          'formula':'moving_average'\n",
        "      },\n",
        "\n",
        "      'Goblin':{\n",
        "          'location':'CN',\n",
        "          'volumes': 30,\n",
        "          'formula': 'monthly'\n",
        "      },\n",
        "      'Voblin':{\n",
        "          'location':'EU',\n",
        "          'volumes': 150,\n",
        "          'formula': 'moving_average'\n",
        "      },\n",
        "      'Dublin':{\n",
        "          'location':'EU',\n",
        "          'volumes': 70,\n",
        "          'formula': 'monthly'\n",
        "      }\n",
        "  }\n",
        "out_file_name = 'ДЗ_3_проверка.xlsx'\n",
        "get_personal_prices(customers1, out_file_name)"
      ]
    },
    {
      "cell_type": "markdown",
      "metadata": {
        "pycharm": {
          "name": "#%% md\n"
        },
        "id": "3vKmxRwRAz-i"
      },
      "source": [
        "# Задание 4. Поделись пакетом"
      ]
    },
    {
      "cell_type": "markdown",
      "metadata": {
        "pycharm": {
          "name": "#%% md\n"
        },
        "id": "Oaa3RdeNAz-j"
      },
      "source": [
        "Ваши коллеги узнали, что вы быстро рассчитываете цены для формульных контрактов, и решили использовать такую же практику для своих продуктов и клиентов. Вам нужно создать пакет, чтобы его было проще устанавливать и использовать."
      ]
    },
    {
      "cell_type": "markdown",
      "metadata": {
        "pycharm": {
          "name": "#%% md\n"
        },
        "id": "Kvxk_HPYAz-j"
      },
      "source": [
        "### Что нужно сделать?\n",
        "* Создайте отдельный пакет, который можно устанавливать с помощью pip\n",
        "* В пакете должны быть реализованы функции для рассчета цен по формульным контрактам\n",
        "* Выложите пакет в свой репозиторий"
      ]
    },
    {
      "cell_type": "code",
      "execution_count": 9,
      "metadata": {
        "pycharm": {
          "name": "#%%\n"
        },
        "id": "F5PbilBpAz-j"
      },
      "outputs": [],
      "source": [
        "#Работаю в коллабе, научилась делать с помощью .py файликов в другой IDE"
      ]
    }
  ],
  "metadata": {
    "kernelspec": {
      "display_name": "Python 3",
      "language": "python",
      "name": "python3"
    },
    "language_info": {
      "codemirror_mode": {
        "name": "ipython",
        "version": 3
      },
      "file_extension": ".py",
      "mimetype": "text/x-python",
      "name": "python",
      "nbconvert_exporter": "python",
      "pygments_lexer": "ipython3",
      "version": "3.8.5"
    },
    "colab": {
      "name": "HW 3 Julia Dmitrieva",
      "provenance": [],
      "collapsed_sections": [],
      "include_colab_link": true
    }
  },
  "nbformat": 4,
  "nbformat_minor": 0
}