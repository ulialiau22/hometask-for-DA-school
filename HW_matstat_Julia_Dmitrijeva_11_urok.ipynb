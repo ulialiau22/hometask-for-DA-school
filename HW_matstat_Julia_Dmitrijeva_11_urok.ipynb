{
  "nbformat": 4,
  "nbformat_minor": 0,
  "metadata": {
    "colab": {
      "name": "HW matstat Julia Dmitrijeva 11 urok.ipynb",
      "provenance": [],
      "collapsed_sections": [],
      "authorship_tag": "ABX9TyN8y+2Q50u2atwG5ow5Pl0I",
      "include_colab_link": true
    },
    "kernelspec": {
      "name": "python3",
      "display_name": "Python 3"
    },
    "language_info": {
      "name": "python"
    }
  },
  "cells": [
    {
      "cell_type": "markdown",
      "metadata": {
        "id": "view-in-github",
        "colab_type": "text"
      },
      "source": [
        "<a href=\"https://colab.research.google.com/github/ulialiau22/hometask-for-DA-school/blob/main/HW_matstat_Julia_Dmitrijeva_11_urok.ipynb\" target=\"_parent\"><img src=\"https://colab.research.google.com/assets/colab-badge.svg\" alt=\"Open In Colab\"/></a>"
      ]
    },
    {
      "cell_type": "code",
      "source": [
        "import pandas as pd\n",
        "import numpy as np\n",
        "import matplotlib.pyplot as plt\n",
        "import random\n",
        "import scipy.stats as sts\n",
        "%matplotlib inline\n",
        "from numpy.random import choice\n",
        "import warnings\n",
        "warnings.filterwarnings('ignore')"
      ],
      "metadata": {
        "id": "_MRS1AN2XW54"
      },
      "execution_count": null,
      "outputs": []
    },
    {
      "cell_type": "markdown",
      "source": [
        "Задача 1\n",
        "\n",
        "Брошено две монеты. Найти вероятность того, что монеты выпали разными сторонами\n",
        "\n"
      ],
      "metadata": {
        "id": "Ser3bcejXUuS"
      }
    },
    {
      "cell_type": "code",
      "source": [
        "A = [0, 1]\n",
        "B = [0, 1]\n",
        "c = 0\n",
        "for _ in range(100000):\n",
        "  moneta1 = choice(A)\n",
        "  moneta2 = choice(B)\n",
        "  if moneta1 != moneta2:\n",
        "    c += 1\n",
        "print(c/100000)"
      ],
      "metadata": {
        "colab": {
          "base_uri": "https://localhost:8080/"
        },
        "id": "WJudE3MIbmwS",
        "outputId": "0980c921-33ec-4f1c-9b38-0c38848f7cc9"
      },
      "execution_count": null,
      "outputs": [
        {
          "output_type": "stream",
          "name": "stdout",
          "text": [
            "0.50145\n"
          ]
        }
      ]
    },
    {
      "cell_type": "markdown",
      "source": [
        "Задача 2\n",
        "\n",
        "Брошено три монеты. Описать множество всех элементарных событий. Найти вероятности следующих событий:\n",
        "\n",
        "A = {не выпало ни одного герба}\n",
        "B = {выпало четное число гербов}\n",
        "C = {на третьей монете выпал герб}\n",
        "\n",
        "0 - герб\n",
        "1 - решка"
      ],
      "metadata": {
        "id": "zwt_ER5H5Q8_"
      }
    },
    {
      "cell_type": "code",
      "source": [
        "M1 = [0, 1]\n",
        "M2 = [0, 1]\n",
        "M3 = [0, 1]\n",
        "a = 0\n",
        "b = 0\n",
        "c = 0 \n",
        "num_exp = 100000\n",
        "for _ in range(num_exp):\n",
        "  m1r = choice(M1)\n",
        "  m2r = choice(M2)\n",
        "  m3r = choice(M3)\n",
        "  if (m1r + m2r + m3r) == 3:\n",
        "    a += 1\n",
        "for _ in range(num_exp):\n",
        "  m1r = choice(M1)\n",
        "  m2r = choice(M2)\n",
        "  m3r = choice(M3)\n",
        "  if (m1r + m2r + m3r) == 1:\n",
        "    b += 1\n",
        "\n",
        "for _ in range(num_exp):\n",
        "  m1r = choice(M1)\n",
        "  m2r = choice(M2)\n",
        "  m3r = choice(M3)\n",
        "  if m3r == 0:\n",
        "    c += 1\n",
        "print(a/num_exp, b/num_exp, c/num_exp)"
      ],
      "metadata": {
        "colab": {
          "base_uri": "https://localhost:8080/"
        },
        "id": "hLiI-b95156c",
        "outputId": "578fab91-e915-4b66-a039-1e231c158dfb"
      },
      "execution_count": null,
      "outputs": [
        {
          "output_type": "stream",
          "name": "stdout",
          "text": [
            "0.12347 0.37703 0.49668\n"
          ]
        }
      ]
    },
    {
      "cell_type": "markdown",
      "source": [
        "Задача 3\n",
        "\n",
        "Из двух претендентов E и L на ответственную должность три члена комиссии должны отобрать одного. Каждый член комиссии должен указать либо одного достойного, либо забраковать обоих. Претендент считается выбранным, если он был признана достойным хотя бы двумя членами комиссии. Найти вероятность событий:\n",
        "\n",
        "A = {рекомендован L}, B = {рекомендован E}\n",
        "\n",
        "0 -  no one\n",
        "\n",
        "1 - E\n",
        "\n",
        "4 - L"
      ],
      "metadata": {
        "id": "O6KEWjN1AxWH"
      }
    },
    {
      "cell_type": "code",
      "source": [
        "member1 = [0, 1, 4]\n",
        "member2 = [0, 1, 4]\n",
        "member3 = [0, 1, 4]\n",
        "A = 0\n",
        "B = 0 \n",
        "for _ in range(num_exp):\n",
        "  mr1 = choice(member1)\n",
        "  mr2 = choice(member2)\n",
        "  mr3 = choice(member3)\n",
        "  if (mr1 + mr2 + mr3) >= 8:\n",
        "    A += 1\n",
        "\n",
        "for _ in range(num_exp):\n",
        "  mr1 = choice(member1)\n",
        "  mr2 = choice(member2)\n",
        "  mr3 = choice(member3)\n",
        "  if (mr1 + mr2 + mr3) in(2,3,6):\n",
        "    B += 1\n",
        "\n",
        "print(A/num_exp, B/num_exp)"
      ],
      "metadata": {
        "colab": {
          "base_uri": "https://localhost:8080/"
        },
        "id": "Gh-inu_oA2zp",
        "outputId": "117b4cb3-5dbd-4f2e-d4b0-cba410251432"
      },
      "execution_count": null,
      "outputs": [
        {
          "output_type": "stream",
          "name": "stdout",
          "text": [
            "0.25721 0.25761\n"
          ]
        }
      ]
    },
    {
      "cell_type": "markdown",
      "source": [
        "Задача 4\n",
        "\n",
        "Брошено две игральных кости. Описать множество элементарных событий. Найти вероятности событий:\n",
        "\n",
        "A = {вышло две \"шестерки\"}\n",
        "\n",
        "B = {сумма выпавших очков не меньше 11}\n",
        "\n",
        "C = {не выпала ни одна \"шестерка\"}"
      ],
      "metadata": {
        "id": "DUdclP1DTZhi"
      }
    },
    {
      "cell_type": "code",
      "source": [
        "K1 = [1,2,3,4,5,6]\n",
        "K2 = [1,2,3,4,5,6]\n",
        "A = 0\n",
        "B = 0\n",
        "C = 0\n",
        "for _ in range(num_exp):\n",
        "  b1 = choice(K1)\n",
        "  b2 = choice(K2)\n",
        "  if b1 + b2 == 12 :\n",
        "    A += 1\n",
        "\n",
        "for _ in range(num_exp):\n",
        "  b1 = choice(K1)\n",
        "  b2 = choice(K2)\n",
        "  if b1 + b2 >=11:\n",
        "    B += 1\n",
        "\n",
        "for _ in range(num_exp):\n",
        "  b1 = choice(K1)\n",
        "  b2 = choice(K2)\n",
        "  if b1 + b2 <=10:\n",
        "    C += 1\n",
        "print(A/num_exp, B/num_exp, C/num_exp)"
      ],
      "metadata": {
        "colab": {
          "base_uri": "https://localhost:8080/"
        },
        "id": "ceoutfe6Te4D",
        "outputId": "7e14da66-d996-428a-ae07-9317789c6d44"
      },
      "execution_count": null,
      "outputs": [
        {
          "output_type": "stream",
          "name": "stdout",
          "text": [
            "0.0284 0.08301 0.91849\n"
          ]
        }
      ]
    },
    {
      "cell_type": "markdown",
      "source": [
        "Задача 5\n",
        "\n",
        "Брошены две игральные кости. Найти вероятность события D = {выпала хотя бы одна шестёрка}"
      ],
      "metadata": {
        "id": "_OPD-8hHIWEz"
      }
    },
    {
      "cell_type": "code",
      "source": [
        "K1 = [1,2,3,4,5,6]\n",
        "K2 = [1,2,3,4,5,6]\n",
        "D = 0\n",
        "for _ in range(num_exp):\n",
        "  b1 = choice(K1)\n",
        "  b2 = choice(K2)\n",
        "  if b1 == 6 or b2 == 6 :\n",
        "    D += 1\n",
        "print(D/num_exp)"
      ],
      "metadata": {
        "colab": {
          "base_uri": "https://localhost:8080/"
        },
        "id": "lmQdxWV6IawH",
        "outputId": "dd20aa59-fe42-4158-9b12-f739480cab8e"
      },
      "execution_count": null,
      "outputs": [
        {
          "output_type": "stream",
          "name": "stdout",
          "text": [
            "0.30684\n"
          ]
        }
      ]
    },
    {
      "cell_type": "markdown",
      "source": [
        "Задача 6\n",
        "\n",
        "В телефонном номере три последние цифры стерлись. Считая, что все возможные значения стершихся цифр равновероятны, найти вероятность событий:\n",
        "\n",
        "A = {Стерлись различные цифры},\n",
        "\n",
        "B = {Стерлись одинаковые цифры},\n",
        "\n",
        "C = {Среди стершихся цифр хотя бы две совпадают},\n",
        "\n",
        "D = {Среди стершихся цифр хотя бы две различны}"
      ],
      "metadata": {
        "id": "mhGWJX3HJfZ8"
      }
    },
    {
      "cell_type": "code",
      "source": [
        "T1 = [0,1,2,3,4,5,6,7,8,9]\n",
        "T2 = [0,1,2,3,4,5,6,7,8,9]\n",
        "T3 = [0,1,2,3,4,5,6,7,8,9]\n",
        "A = 0\n",
        "B = 0\n",
        "C = 0\n",
        "D = 0\n",
        "\n",
        "for _ in range(num_exp):\n",
        "  p1 = choice(T1)\n",
        "  p2 = choice(T2)\n",
        "  p3 = choice(T3)\n",
        "  if p1 != p2 and p1 != p3 and p2 != p3:\n",
        "    A +=1 \n",
        "\n",
        "for _ in range(num_exp):\n",
        "  p1 = choice(T1)\n",
        "  p2 = choice(T2)\n",
        "  p3 = choice(T3)\n",
        "  if p1 == p2 == p3:\n",
        "    B +=1 \n",
        "\n",
        "for _ in range(num_exp):\n",
        "  p1 = choice(T1)\n",
        "  p2 = choice(T2)\n",
        "  p3 = choice(T3)\n",
        "  if (p1 == p2 and p1 == p3) or (p1 == p3 and p2 == p3) or (p2 == p3 and p2 == p1):\n",
        "    C +=1 \n",
        "\n",
        "for _ in range(num_exp):\n",
        "  p1 = choice(T1)\n",
        "  p2 = choice(T2)\n",
        "  p3 = choice(T3)\n",
        "  if (p1 != p2 and p1 != p3) or (p1 != p3 and p2 != p3) or (p2 != p3 and p2 != p1):\n",
        "    D +=1 \n",
        "\n",
        "print(A/num_exp, B/num_exp, C/num_exp, D/num_exp)"
      ],
      "metadata": {
        "colab": {
          "base_uri": "https://localhost:8080/"
        },
        "id": "LKeA_stmJe_7",
        "outputId": "a0b751d8-5296-4907-e7c1-41b02bd6072c"
      },
      "execution_count": null,
      "outputs": [
        {
          "output_type": "stream",
          "name": "stdout",
          "text": [
            "0.71764 0.00984 0.00971 0.9903\n"
          ]
        }
      ]
    },
    {
      "cell_type": "markdown",
      "source": [
        "Задача 7\n",
        "\n",
        "В лотерее имеется 10 билетов, из которых один выигрышный. Размер выигрыша 10 ден. ед.; стоимость билета 1 ден ед. Найти закон распределения случайной величины X, равной чистому выигрышу участника лотереи, который вытаскивает билет первым.\n",
        "\n",
        "X - конечные деньги у человека"
      ],
      "metadata": {
        "id": "W5FYsWxd7oNC"
      }
    },
    {
      "cell_type": "code",
      "source": [
        "#B = [-1, -1, -1, -1, -1, -1, -1, -1, -1, 9]\n",
        "#possible_values = []\n",
        "#for _ in range(10000):\n",
        "  #win1 = choice(B)\n",
        "  #possible_values.append(B)\n",
        "  #plt.hist(possible_values)"
      ],
      "metadata": {
        "id": "zUsNZO8zQCad"
      },
      "execution_count": null,
      "outputs": []
    },
    {
      "cell_type": "markdown",
      "source": [
        "Задача 8\n",
        "\n",
        "Брошены две игральные кости. Найти закон распределения случайной величины \n",
        "X\n",
        ", равной сумме выпавших очков. Найти вероятности событий \n",
        "X\n",
        "<=\n",
        "4\n",
        ", \n",
        "X>=4\n"
      ],
      "metadata": {
        "id": "kNmvHwOV97Ag"
      }
    },
    {
      "cell_type": "code",
      "source": [
        "K1 = np.arange(1,7)\n",
        "K2 = np.arange(1,7)\n",
        "possible_values = []\n",
        "X1 = 0\n",
        "X2 = 0\n",
        "for i in range(10000):\n",
        "  d1r = choice(K1)\n",
        "  d2r = choice(K2)\n",
        "  possible_values.append(d1r + d2r)\n",
        "\n",
        "for _ in range(10000):\n",
        "  d1r = choice(K1)\n",
        "  d2r = choice(K2)\n",
        "  if (d1r + d2r) <= 4:\n",
        "    X1 += 1\n",
        "for _ in range(10000):\n",
        "  d1r = choice(K1)\n",
        "  d2r = choice(K2)\n",
        "  if (d1r + d2r) >= 4:\n",
        "    X2 += 1\n",
        "\n",
        "plt.hist(possible_values)\n",
        "print (X1/10000, X2/10000)\n"
      ],
      "metadata": {
        "colab": {
          "base_uri": "https://localhost:8080/",
          "height": 282
        },
        "id": "4ZTLdESl6fOm",
        "outputId": "388e3b0b-1b12-405a-a5a8-81778a287b37"
      },
      "execution_count": null,
      "outputs": [
        {
          "output_type": "stream",
          "name": "stdout",
          "text": [
            "0.1671 0.9129\n"
          ]
        },
        {
          "output_type": "display_data",
          "data": {
            "text/plain": [
              "<Figure size 432x288 with 1 Axes>"
            ],
            "image/png": "[encoded data removed]"
          },
          "metadata": {
            "needs_background": "light"
          }
        }
      ]
    },
    {
      "cell_type": "markdown",
      "source": [
        "Нормальное распределение\n"
      ],
      "metadata": {
        "id": "27Td9mVjAaDe"
      }
    },
    {
      "cell_type": "markdown",
      "source": [
        "Задача 9\n",
        "\n",
        "Из колоды (36 карт) вынимают последовательно без возвращения две карты. Найти вероятность того, что первой картой была шестерка, а второй — семерка. Найти условную вероятность того же события при условии, что обе карты бубновой масти."
      ],
      "metadata": {
        "id": "gJpl_R9A_wQI"
      }
    },
    {
      "cell_type": "code",
      "source": [
        "K = [str(i)+'t' for i in np.arange(6, 15)] + [str(i)+'p' for i in np.arange(6, 15)] + [str(i)+'c' for i in np.arange(6, 15)] + [str(i)+'b' for i in np.arange(6, 15)]\n",
        "A = 0 \n",
        "B = 0\n",
        "\n",
        "for _ in range(10000):\n",
        "  k1 = choice(K)\n",
        "  k2 = choice(K)\n",
        "  if k1 in ('6p', '6b', '6t', '6c') and k2 in ('7p', '7b', '7t', '7c'):\n",
        "    A += 1\n",
        "\n",
        "for _ in range(10000):\n",
        "  k1 = choice(K)\n",
        "  k2 = choice(K)\n",
        "  if k1 == '6b' and k2 == '7b':\n",
        "    B += 1\n",
        "print(A/10000, B/10000)"
      ],
      "metadata": {
        "colab": {
          "base_uri": "https://localhost:8080/"
        },
        "id": "hHpdvy8C9EES",
        "outputId": "8b21093b-2e0a-4e68-c5c0-81945c8d1914"
      },
      "execution_count": null,
      "outputs": [
        {
          "output_type": "stream",
          "name": "stdout",
          "text": [
            "0.0124 0.0014\n"
          ]
        }
      ]
    },
    {
      "cell_type": "code",
      "source": [],
      "metadata": {
        "id": "lpMCy0MhUijF"
      },
      "execution_count": null,
      "outputs": []
    }
  ]
}