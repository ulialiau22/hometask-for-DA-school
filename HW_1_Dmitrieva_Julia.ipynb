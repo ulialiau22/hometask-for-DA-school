{
  "nbformat": 4,
  "nbformat_minor": 0,
  "metadata": {
    "colab": {
      "name": "HW-1-Dmitrieva Julia.ipynb",
      "provenance": [],
      "authorship_tag": "ABX9TyPX4TVi6jYbB7pYRbPVLa51",
      "include_colab_link": true
    },
    "kernelspec": {
      "name": "python3",
      "display_name": "Python 3"
    },
    "language_info": {
      "name": "python"
    }
  },
  "cells": [
    {
      "cell_type": "markdown",
      "metadata": {
        "id": "view-in-github",
        "colab_type": "text"
      },
      "source": [
        "<a href=\"https://colab.research.google.com/github/ulialiau22/hometask-for-DA-school/blob/main/HW_1_Dmitrieva_Julia.ipynb\" target=\"_parent\"><img src=\"https://colab.research.google.com/assets/colab-badge.svg\" alt=\"Open In Colab\"/></a>"
      ]
    },
    {
      "cell_type": "code",
      "execution_count": 4,
      "metadata": {
        "id": "92VpP8iLmZwT"
      },
      "outputs": [],
      "source": [
        "import csv\n",
        "import sys\n",
        "from collections import Counter, defaultdict\n"
      ]
    },
    {
      "cell_type": "code",
      "source": [
        "!pip install wget\n",
        "!wget https://raw.githubusercontent.com/da-python/python-for-data-analytics/main/Lesson1/hometask/vacancy.csv.zip\n",
        "!unzip vacancy.csv.zip;"
      ],
      "metadata": {
        "colab": {
          "base_uri": "https://localhost:8080/"
        },
        "id": "Xy5WRxZQoW2n",
        "outputId": "728bffee-0230-4d8f-cb13-9f9de20fa8a7"
      },
      "execution_count": 9,
      "outputs": [
        {
          "output_type": "stream",
          "name": "stdout",
          "text": [
            "Looking in indexes: https://pypi.org/simple, https://us-python.pkg.dev/colab-wheels/public/simple/\n",
            "Collecting wget\n",
            "  Downloading wget-3.2.zip (10 kB)\n",
            "Building wheels for collected packages: wget\n",
            "  Building wheel for wget (setup.py) ... \u001b[?25l\u001b[?25hdone\n",
            "  Created wheel for wget: filename=wget-3.2-py3-none-any.whl size=9675 sha256=0ecfdc5647ab9b5faa0f2d7363090f7351e425bbb17db4b5defedc1c39cd5b95\n",
            "  Stored in directory: /root/.cache/pip/wheels/a1/b6/7c/0e63e34eb06634181c63adacca38b79ff8f35c37e3c13e3c02\n",
            "Successfully built wget\n",
            "Installing collected packages: wget\n",
            "Successfully installed wget-3.2\n",
            "--2022-07-25 18:32:15--  https://raw.githubusercontent.com/da-python/python-for-data-analytics/main/Lesson1/hometask/vacancy.csv.zip\n",
            "Resolving raw.githubusercontent.com (raw.githubusercontent.com)... 185.199.108.133, 185.199.109.133, 185.199.110.133, ...\n",
            "Connecting to raw.githubusercontent.com (raw.githubusercontent.com)|185.199.108.133|:443... connected.\n",
            "HTTP request sent, awaiting response... 200 OK\n",
            "Length: 3029239 (2.9M) [application/zip]\n",
            "Saving to: ‘vacancy.csv.zip’\n",
            "\n",
            "vacancy.csv.zip     100%[===================>]   2.89M  --.-KB/s    in 0.03s   \n",
            "\n",
            "2022-07-25 18:32:15 (112 MB/s) - ‘vacancy.csv.zip’ saved [3029239/3029239]\n",
            "\n",
            "Archive:  vacancy.csv.zip\n",
            "  inflating: vacancy.csv             \n"
          ]
        }
      ]
    },
    {
      "cell_type": "code",
      "source": [
        "file_path = 'vacancy.csv'\n",
        "vacancy = list(csv.DictReader(open(file_path)))"
      ],
      "metadata": {
        "id": "V9Ei0UgTmqUD"
      },
      "execution_count": 11,
      "outputs": []
    },
    {
      "cell_type": "code",
      "source": [
        "len(vacancy)"
      ],
      "metadata": {
        "colab": {
          "base_uri": "https://localhost:8080/"
        },
        "id": "Dc5egK2AnpaP",
        "outputId": "cd09385e-e4bf-499a-deeb-fdb4be794f64"
      },
      "execution_count": 12,
      "outputs": [
        {
          "output_type": "execute_result",
          "data": {
            "text/plain": [
              "4002"
            ]
          },
          "metadata": {},
          "execution_count": 12
        }
      ]
    },
    {
      "cell_type": "code",
      "source": [
        "vacancy[0]"
      ],
      "metadata": {
        "colab": {
          "base_uri": "https://localhost:8080/"
        },
        "id": "fTbAsp2NohCq",
        "outputId": "b4f81245-a921-4272-8431-d772ba83bd7d"
      },
      "execution_count": 14,
      "outputs": [
        {
          "output_type": "execute_result",
          "data": {
            "text/plain": [
              "OrderedDict([('id', '383479'),\n",
              "             ('created_at', '2021-03-14 09:39:21.854462'),\n",
              "             ('updated_at', '2021-03-14 09:39:21.854584'),\n",
              "             ('vacid', '1474941'),\n",
              "             ('vactitle', 'Senior java-разработчик (в команду Онбординга)'),\n",
              "             ('vacdescription',\n",
              "              ' Работа у нас — это:команда профессионалов, готовых поддержать ваши инициативы;мощное железо, дополнительные мониторы и всё, что нужно для продуктивной работы;обучение за счёт компании;гибкий графиккрасивый и комфортный офис  г. Санкт-Петербург, м. Ладожская  пл. Карла Фаберже 8 ВДМС;прозрачная система бонусов и премий, достойная зарплата — размер обсудим на собеседовании.Информация о проекте:Наша команда делает новые экспериментальные фичи для СБОЛа.Сейчас мы разрабатываем систему, с помощью которой разные команды Сбера смогут создавать квесты для мобильного приложения.Также мы будем разрабатывать внутреннюю платформу для продуктовых экспериментов. Описание команды:2-pizza team: сейчас у нас работают разработчики iOS и Android, продакт и аналитик. К команде в ближайшее время подключится тестировщик и еще один аналитик. Мы ожидаем, что Вы:Работали раннее в продуктовой agile-команде;Имеете опыт работы больше 4 лет с Java и ее экосистемой;Владеете Spring: Core, MVC, Boot, Cloud;Работали с реляционными БД;Трепетно относитесь к тестовому покрытию;Будете относиться с заботой к нашим пользователям, продукту и команде. Будет здорово, если вы:Умеете готовить ansible;Работали с k8s;Использовали kafka;Умеете оптимизировать SQL-запросы. Вам предстоит:отвечать за качество технических решений;придумывать реализацию для безумных идей наших продактов;разрабатывать сервисы, интегрироваться с множеством систем банка.Информация о проекте:Наша команда делает новые экспериментальные фичи для СБОЛа.Сейчас мы разрабатываем систему, с помощью которой разные команды Сбера смогут создавать квесты для мобильного приложения.Также мы будем разрабатывать внутреннюю платформу для продуктовых экспериментов. Описание команды:2-pizza team: сейчас у нас работают разработчики iOS и Android, продакт и аналитик. К команде в ближайшее время подключится тестировщик и еще один аналитик. Мы ожидаем, что Вы:Работали раннее в продуктовой agile-команде;Имеете опыт работы больше 4 лет с Java и ее экосистемой;Владеете Spring: Core, MVC, Boot, Cloud;Работали с реляционными БД;Трепетно относитесь к тестовому покрытию;Будете относиться с заботой к нашим пользователям, продукту и команде. Будет здорово, если вы:Умеете готовить ansible;Работали с k8s;Использовали kafka;Умеете оптимизировать SQL-запросы. Вам предстоит:отвечать за качество технических решений;придумывать реализацию для безумных идей наших продактов;разрабатывать сервисы, интегрироваться с множеством систем банка. Работа у нас — это:команда профессионалов, готовых поддержать ваши инициативы;мощное железо, дополнительные мониторы и всё, что нужно для продуктивной работы;обучение за счёт компании;гибкий графиккрасивый и комфортный офис  г. Санкт-Петербург, м. Ладожская  пл. Карла Фаберже 8 ВДМС;прозрачная система бонусов и премий, достойная зарплата — размер обсудим на собеседовании.'),\n",
              "             ('vacdate', '2021-03-15'),\n",
              "             ('vacstatus', 'new'),\n",
              "             ('vaclink',\n",
              "              'https://my.sbertalents.ru/#/job-requisition/1474941')])"
            ]
          },
          "metadata": {},
          "execution_count": 14
        }
      ]
    },
    {
      "cell_type": "code",
      "source": [
        "vacancy[1]"
      ],
      "metadata": {
        "colab": {
          "base_uri": "https://localhost:8080/"
        },
        "id": "tULbPOrWolqG",
        "outputId": "5721199a-8c9c-4b0e-90a1-6097299cc62a"
      },
      "execution_count": 15,
      "outputs": [
        {
          "output_type": "execute_result",
          "data": {
            "text/plain": [
              "OrderedDict([('id', '383480'),\n",
              "             ('created_at', '2021-03-14 09:39:21.854462'),\n",
              "             ('updated_at', '2021-03-14 09:39:21.854584'),\n",
              "             ('vacid', '1476154'),\n",
              "             ('vactitle', 'Дизайнер мобильных приложений'),\n",
              "             ('vacdescription',\n",
              "              'Мы ищем  дизайнера в нашу дружную команду Сбербанк!  Наши проекты:для топ-менеджмента банкадля подразделения безопасностидля лаборатории робототехникидля инкассаторов Задачи:Дизайн и верстка сложных корпоративных продуктов на платформах iOS, Android, macOS, Windows и Web/Основной профиль –  мобильные приложения;Работать в связке с другими дизайнерами;Развивать текущие продукты;Отрисовка макетов в рамках существующей дизайн-системы. Требования:Знание гайдлайнов iOS и Android;Владение профессиональными программами: Sketch, Figma, Adobe Creative Cloud;Основы композиции, типографики, цвета и формы;Грамотный русский и базовый английский язык;Коммуникабельность, командная работа, обучаемость, огонь в глазах.  Условия:Полный рабочий день, но по удобному графику;Достойная заработная плата (оклад + премии);Оформление по ТК РФ;Социальный пакет (ДМС, английский язык, спортзал);Возможность обучения и сертификации за счет компании;Программа льготного кредитования в Сбербанке;Дисконт-программы от множества компаний партнеров;Возможность принять участие в других крупных и уникальных проектах банка.  Мы благодарим всех соискателей, которые направят отклик на данную вакансию. Ваше резюме будет рассмотрено в течение ближайшего времени.Знание гайдлайнов iOS и Android;Владение профессиональными программами: Sketch, Figma, Adobe Creative Cloud;Основы композиции, типографики, цвета и формы;Грамотный русский и базовый английский язык;Коммуникабельность, командная работа, обучаемость, огонь в глазах.  Условия:Полный рабочий день, но по удобному графику;Достойная заработная плата (оклад + премии);Оформление по ТК РФ;Социальный пакет (ДМС, английский язык, спортзал);Возможность обучения и сертификации за счет компании;Программа льготного кредитования в Сбербанке;Дисконт-программы от множества компаний партнеров;Возможность принять участие в других крупных и уникальных проектах банка.  Мы благодарим всех соискателей, которые направят отклик на данную вакансию. Ваше резюме будет рассмотрено в течение ближайшего времени.Мы ищем  дизайнера в нашу дружную команду Сбербанк!  Наши проекты:для топ-менеджмента банкадля подразделения безопасностидля лаборатории робототехникидля инкассаторов Задачи:Дизайн и верстка сложных корпоративных продуктов на платформах iOS, Android, macOS, Windows и Web/Основной профиль –  мобильные приложения;Работать в связке с другими дизайнерами;Развивать текущие продукты;Отрисовка макетов в рамках существующей дизайн-системы. '),\n",
              "             ('vacdate', '2021-03-15'),\n",
              "             ('vacstatus', 'new'),\n",
              "             ('vaclink',\n",
              "              'https://my.sbertalents.ru/#/job-requisition/1476154')])"
            ]
          },
          "metadata": {},
          "execution_count": 15
        }
      ]
    },
    {
      "cell_type": "markdown",
      "source": [
        ""
      ],
      "metadata": {
        "id": "3rjkAtYm6QK6"
      }
    },
    {
      "cell_type": "code",
      "source": [
        "# Сколько вакансий, которые вам нравятся?\n",
        "fav_vacs = Counter(row['vactitle'] for row in vacancy if row.get('vactitle').lower().find('аналитик') > -1)"
      ],
      "metadata": {
        "id": "Bw6Slv_hsYb4"
      },
      "execution_count": 130,
      "outputs": []
    },
    {
      "cell_type": "code",
      "source": [
        "fav_vacs.most_common(5)"
      ],
      "metadata": {
        "colab": {
          "base_uri": "https://localhost:8080/"
        },
        "id": "T2oFvGU4tGwu",
        "outputId": "4999476e-6bbb-4c07-9670-dd36e8117853"
      },
      "execution_count": 136,
      "outputs": [
        {
          "output_type": "execute_result",
          "data": {
            "text/plain": [
              "[('Системный аналитик', 62),\n",
              " ('Аналитик', 16),\n",
              " ('Старший кредитный аналитик', 12),\n",
              " ('Бизнес-аналитик', 8),\n",
              " ('Ведущий аналитик', 5)]"
            ]
          },
          "metadata": {},
          "execution_count": 136
        }
      ]
    },
    {
      "cell_type": "code",
      "source": [
        "# Сколько вакансий с такими позициями, на которых вы работаете?\n",
        "Eng = len([row['vactitle'] for row in vacancy if row.get('vactitle').lower().find('ведущий инженер по разработке') > -1])\n",
        "Eng\n"
      ],
      "metadata": {
        "colab": {
          "base_uri": "https://localhost:8080/"
        },
        "id": "LbHjmJX0xx16",
        "outputId": "94119d95-b75c-4652-8b95-524fb4ca9b5b"
      },
      "execution_count": 144,
      "outputs": [
        {
          "output_type": "execute_result",
          "data": {
            "text/plain": [
              "20"
            ]
          },
          "metadata": {},
          "execution_count": 144
        }
      ]
    },
    {
      "cell_type": "code",
      "source": [
        "# За какие периоды эти вакансии? \n",
        "sorted([x.get('vacdate') for x in vacancy if x.get('vactitle').lower().find('инженер')> -1])[1],max([x.get('vacdate') for x in vacancy if x.get('vactitle').lower().find('инженер')> -1])"
      ],
      "metadata": {
        "colab": {
          "base_uri": "https://localhost:8080/"
        },
        "id": "iUycFU5K7EY6",
        "outputId": "d616470d-c4d7-49b3-8067-a6a11f84669d"
      },
      "execution_count": 99,
      "outputs": [
        {
          "output_type": "execute_result",
          "data": {
            "text/plain": [
              "('2020-10-26', '2021-03-17')"
            ]
          },
          "metadata": {},
          "execution_count": 99
        }
      ]
    },
    {
      "cell_type": "code",
      "source": [
        "# За какие периоды эти вакансии? \n",
        "[x.get('vacdate') for x in vacancy if x.get('vactitle').lower().find('инженер')> -1]"
      ],
      "metadata": {
        "id": "xUMMuvs9yw45"
      },
      "execution_count": null,
      "outputs": []
    },
    {
      "cell_type": "code",
      "source": [
        "# Сколько вакансий для аналитика данных?\n",
        "Аналитик =  [row for row in vacancy if row ['vactitle'] in ('Аналитик данных')]"
      ],
      "metadata": {
        "id": "EGGYQbXc16Ae"
      },
      "execution_count": 104,
      "outputs": []
    },
    {
      "cell_type": "code",
      "source": [
        "len(Аналитик)"
      ],
      "metadata": {
        "colab": {
          "base_uri": "https://localhost:8080/"
        },
        "id": "_ua5AB3d1O6-",
        "outputId": "b699d455-7596-41fd-dd28-b88d5696c99a"
      },
      "execution_count": 105,
      "outputs": [
        {
          "output_type": "execute_result",
          "data": {
            "text/plain": [
              "21"
            ]
          },
          "metadata": {},
          "execution_count": 105
        }
      ]
    },
    {
      "cell_type": "code",
      "source": [
        "Analytics = len([row['vactitle'] for row in vacancy if row.get('vactitle').lower().find('аналитик данных') > -1])\n",
        "Analytics"
      ],
      "metadata": {
        "colab": {
          "base_uri": "https://localhost:8080/"
        },
        "id": "a2n1RhMI2TIp",
        "outputId": "22363cad-e6f4-4e05-85e3-6d0d71a50c4e"
      },
      "execution_count": 139,
      "outputs": [
        {
          "output_type": "execute_result",
          "data": {
            "text/plain": [
              "21"
            ]
          },
          "metadata": {},
          "execution_count": 139
        }
      ]
    },
    {
      "cell_type": "code",
      "source": [
        "# Сколько вакансий для аналитика данных с использованием Python?"
      ],
      "metadata": {
        "id": "HTxX_UuU9qDz"
      },
      "execution_count": null,
      "outputs": []
    },
    {
      "cell_type": "code",
      "source": [
        "DA = [row for row in vacancy if row.get('vactitle').lower().find('аналитик данных') > -1]"
      ],
      "metadata": {
        "id": "_kqEt4oT9CqE"
      },
      "execution_count": 128,
      "outputs": []
    },
    {
      "cell_type": "code",
      "source": [
        "len([x.get('vactitle') for x in DA if x.get('vacdescription').lower().find('python') > -1])"
      ],
      "metadata": {
        "colab": {
          "base_uri": "https://localhost:8080/"
        },
        "id": "2QPbFY6z-O7d",
        "outputId": "29ce6abd-5679-46af-8dbf-b61965cf1867"
      },
      "execution_count": 129,
      "outputs": [
        {
          "output_type": "execute_result",
          "data": {
            "text/plain": [
              "8"
            ]
          },
          "metadata": {},
          "execution_count": 129
        }
      ]
    },
    {
      "cell_type": "code",
      "source": [
        "DA = len([\n",
        "      row['vactitle'] for row in vacancy if (row.get('vactitle').lower().find('аналитик данных') > -1) & (row.get('vacdescription').lower().find('python') > -1)\n",
        "      ])\n",
        "DA"
      ],
      "metadata": {
        "colab": {
          "base_uri": "https://localhost:8080/"
        },
        "id": "7gGLA93l-Oe9",
        "outputId": "78b96385-8632-47c1-c9b9-d94b494c16da"
      },
      "execution_count": 140,
      "outputs": [
        {
          "output_type": "execute_result",
          "data": {
            "text/plain": [
              "8"
            ]
          },
          "metadata": {},
          "execution_count": 140
        }
      ]
    },
    {
      "cell_type": "code",
      "source": [
        ""
      ],
      "metadata": {
        "id": "UN9uuciG_h8O"
      },
      "execution_count": null,
      "outputs": []
    }
  ]
}